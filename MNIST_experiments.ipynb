{
 "cells": [
  {
   "cell_type": "code",
   "execution_count": 1,
   "metadata": {},
   "outputs": [
    {
     "name": "stdout",
     "output_type": "stream",
     "text": [
      "Device: cpu\n"
     ]
    }
   ],
   "source": [
    "import numpy as np\n",
    "import matplotlib.pyplot as plt\n",
    "import torch\n",
    "import json\n",
    "import os\n",
    "import sys\n",
    "from time import strftime\n",
    "\n",
    "%matplotlib inline\n",
    "\n",
    "device = torch.device(\"cuda\" if torch.cuda.is_available() else \"cpu\")\n",
    "print(f\"Device: {device}\")\n",
    "# Use py3.9 kernel"
   ]
  },
  {
   "cell_type": "code",
   "execution_count": 2,
   "metadata": {},
   "outputs": [
    {
     "name": "stdout",
     "output_type": "stream",
     "text": [
      "/Users/kimbente/NeuralProcesses\n",
      "<module 'posixpath' from '/Users/kimbente/opt/anaconda3/envs/py3.9/lib/python3.9/posixpath.py'>\n"
     ]
    }
   ],
   "source": [
    "# Create a folder to store experiment results\n",
    "timestamp = strftime(\"%Y-%m-%d_%H-%M\")\n",
    "# concatenates: e.g. results_2023-07-26_14-26\n",
    "directory = \"results_{}\".format(timestamp)\n",
    "\n",
    "# specify path\n",
    "path = os.getcwd()\n",
    "\n",
    "print(os.getcwd())\n",
    "print(os.path)\n",
    "\n",
    "if not os.path.exists(directory):\n",
    "    os.makedirs(directory)"
   ]
  },
  {
   "attachments": {},
   "cell_type": "markdown",
   "metadata": {},
   "source": [
    "## Load MNIST data"
   ]
  },
  {
   "cell_type": "code",
   "execution_count": 3,
   "metadata": {},
   "outputs": [
    {
     "name": "stderr",
     "output_type": "stream",
     "text": [
      "/Users/kimbente/opt/anaconda3/envs/py3.9/lib/python3.9/site-packages/torchvision/io/image.py:13: UserWarning: Failed to load image Python extension: dlopen(/Users/kimbente/opt/anaconda3/envs/py3.9/lib/python3.9/site-packages/torchvision/image.so, 0x0006): Symbol not found: __ZN2at4_ops19empty_memory_format4callEN3c108ArrayRefIxEENS2_8optionalINS2_10ScalarTypeEEENS5_INS2_6LayoutEEENS5_INS2_6DeviceEEENS5_IbEENS5_INS2_12MemoryFormatEEE\n",
      "  Referenced from: <67CD63CE-57E0-341F-B3B8-78729B03D2B3> /Users/kimbente/opt/anaconda3/envs/py3.9/lib/python3.9/site-packages/torchvision/image.so\n",
      "  Expected in:     <18497461-1393-3DF8-BED0-DC986FDB1051> /Users/kimbente/opt/anaconda3/envs/py3.9/lib/python3.9/site-packages/torch/lib/libtorch_cpu.dylib\n",
      "  warn(f\"Failed to load image Python extension: {e}\")\n"
     ]
    }
   ],
   "source": [
    "from datasets import mnist\n",
    "from torchvision import datasets, transforms\n",
    "from torchvision.utils import make_grid\n",
    "\n",
    "mnist_batch_size = 8\n",
    "mnist_size = 28\n",
    "\n",
    "# 28 x 28 is the default size\n",
    "# using mnist function written in datasets.py\n",
    "# https://pytorch.org/vision/stable/generated/torchvision.datasets.MNIST.html#torchvision.datasets.MNIST\n",
    "train_loader, test_loader = mnist(batch_size = mnist_batch_size, size = mnist_size)"
   ]
  },
  {
   "attachments": {},
   "cell_type": "markdown",
   "metadata": {},
   "source": [
    "## Visualise "
   ]
  },
  {
   "cell_type": "code",
   "execution_count": 4,
   "metadata": {},
   "outputs": [
    {
     "name": "stdout",
     "output_type": "stream",
     "text": [
      "torch.Size([28, 28])\n",
      "tensor(9)\n"
     ]
    },
    {
     "data": {
      "text/plain": [
       "<matplotlib.image.AxesImage at 0x7f995b8427f0>"
      ]
     },
     "execution_count": 4,
     "metadata": {},
     "output_type": "execute_result"
    },
    {
     "data": {
      "image/png": "[encoded data removed]",
      "text/plain": [
       "<Figure size 640x480 with 1 Axes>"
      ]
     },
     "metadata": {},
     "output_type": "display_data"
    }
   ],
   "source": [
    "# show single image from test\n",
    "\n",
    "for _, data in enumerate(train_loader):\n",
    "    # unpack data\n",
    "    images, labels = data\n",
    "    # select single image and reshape to remove dimensions of cardinality 1ß\n",
    "    # images has shape (mnist_batch_size, 1, 28, 28)\n",
    "    image = images[1, :, :, :].squeeze()\n",
    "    print(image.shape)\n",
    "    print(labels[1])\n",
    "    break\n",
    "\n",
    "plt.imshow(image.numpy(), cmap = 'gray')\n"
   ]
  },
  {
   "cell_type": "code",
   "execution_count": 5,
   "metadata": {},
   "outputs": [
    {
     "data": {
      "image/png": "[encoded data removed]",
      "text/plain": [
       "<Figure size 640x480 with 1 Axes>"
      ]
     },
     "metadata": {},
     "output_type": "display_data"
    }
   ],
   "source": [
    "# show batch of test iamges\n",
    "for _, data in enumerate(train_loader):\n",
    "    # unpack data\n",
    "    images, labels = data\n",
    "    # only extract one batch and break\n",
    "    break\n",
    "\n",
    "import torchvision.transforms.functional as F\n",
    "\n",
    "# show function\n",
    "def show(imgs):\n",
    "    if not isinstance(imgs, list):\n",
    "        imgs = [imgs]\n",
    "    fig, axs = plt.subplots(ncols = len(imgs), squeeze = False)\n",
    "    for i, img in enumerate(imgs):\n",
    "        img = img.detach()\n",
    "        img = F.to_pil_image(img)\n",
    "        axs[0, i].imshow(np.asarray(img))\n",
    "        axs[0, i].set(xticklabels = [], yticklabels = [], xticks = [], yticks = [])\n",
    "\n",
    "# images: 4D mini-batch Tensor of shape (B x C x H x W)\n",
    "image_grid = make_grid(images) \n",
    "show(image_grid)"
   ]
  },
  {
   "attachments": {},
   "cell_type": "markdown",
   "metadata": {},
   "source": [
    "## Explore masking"
   ]
  },
  {
   "cell_type": "code",
   "execution_count": 6,
   "metadata": {},
   "outputs": [
    {
     "name": "stderr",
     "output_type": "stream",
     "text": [
      "/Users/kimbente/NeuralProcesses/utils.py:90: UserWarning: indexing with dtype torch.uint8 is now deprecated, please use a dtype torch.bool instead. (Triggered internally at /Users/runner/work/_temp/anaconda/conda-bld/pytorch_1670525473998/work/aten/src/ATen/native/IndexingUtils.h:28.)\n",
      "  y = img[mask_img_size].view(batch_size, num_channels, num_points)\n"
     ]
    }
   ],
   "source": [
    "from utils import mask_to_np_input\n",
    "\n",
    "# Create byte tensor \n",
    "# Assuming square shape, sampling from uniform distribution > True/False > imutable bytes()\n",
    "mask_tensor = (torch.rand((mnist_size, mnist_size)) > 0.8).byte()\n",
    "# Creates 8 copies\n",
    "mask_tensor = torch.tile(mask_tensor, dims = (8, 1, 1))\n",
    "# mask_tensor[1].view(-1).sum()\n",
    "x, y = mask_to_np_input(img = images, mask = mask_tensor)\n",
    "# x has shape (mnist_batch_size, num of unmasked pixels, normalised_x_location, normalised_y_location)\n",
    "# y has shape (mnist_batch_size, num of unmasked pixels, normalised_value)"
   ]
  },
  {
   "cell_type": "code",
   "execution_count": 7,
   "metadata": {},
   "outputs": [],
   "source": [
    "upperhalf_mask_tensor = torch.zeros((28, 28)).byte()\n",
    "upperhalf_mask_tensor[:14, :] = 1 # Top half of pixels are visible (rows 0:14, all columns)"
   ]
  },
  {
   "attachments": {},
   "cell_type": "markdown",
   "metadata": {},
   "source": [
    "# View occluded image"
   ]
  },
  {
   "cell_type": "code",
   "execution_count": 8,
   "metadata": {},
   "outputs": [
    {
     "data": {
      "text/plain": [
       "<matplotlib.image.AxesImage at 0x7f990834ca30>"
      ]
     },
     "execution_count": 8,
     "metadata": {},
     "output_type": "execute_result"
    },
    {
     "data": {
      "image/png": "[encoded data removed]",
      "text/plain": [
       "<Figure size 640x480 with 1 Axes>"
      ]
     },
     "metadata": {},
     "output_type": "display_data"
    }
   ],
   "source": [
    "# Visualize occluded image\n",
    "occluded_img = images[1] * mask_tensor[1].float()\n",
    "\n",
    "# print(occluded_img.shape)\n",
    "# Put first, explicit dimension last\n",
    "# print(occluded_img.permute(1, 2, 0).shape)\n",
    "\n",
    "plt.imshow(occluded_img.permute(1, 2, 0).numpy(), cmap = 'gray')"
   ]
  },
  {
   "cell_type": "code",
   "execution_count": 13,
   "metadata": {},
   "outputs": [
    {
     "data": {
      "text/plain": [
       "<matplotlib.image.AxesImage at 0x7f995a770370>"
      ]
     },
     "execution_count": 13,
     "metadata": {},
     "output_type": "execute_result"
    },
    {
     "data": {
      "image/png": "[encoded data removed]",
      "text/plain": [
       "<Figure size 640x480 with 1 Axes>"
      ]
     },
     "metadata": {},
     "output_type": "display_data"
    }
   ],
   "source": [
    "# Visualize occluded image\n",
    "half_occluded_img = images[1] * upperhalf_mask_tensor.float()\n",
    "plt.imshow(half_occluded_img.permute(1, 2, 0).numpy(), cmap = 'gray')"
   ]
  },
  {
   "attachments": {},
   "cell_type": "markdown",
   "metadata": {},
   "source": [
    "## Train Model"
   ]
  },
  {
   "cell_type": "code",
   "execution_count": 35,
   "metadata": {},
   "outputs": [],
   "source": [
    "from datasets import mnist\n",
    "from neuralprocess import NeuralProcess2D\n",
    "from training import NeuralProcessTrainer\n",
    "\n",
    "# Set hypers\n",
    "# May also put this is an config file\n",
    "img_size = [1, 28, 28]\n",
    "batch_size = 16\n",
    "r_dim = 256\n",
    "h_dim = 256\n",
    "z_dim = 256\n",
    "num_context_range = [3, 200]\n",
    "num_extra_target_range = [0, 200]\n",
    "lr = 4e-5\n",
    "epochs = 1"
   ]
  },
  {
   "cell_type": "code",
   "execution_count": 33,
   "metadata": {},
   "outputs": [],
   "source": [
    "# Returns training loader and test loader\n",
    "mnist_data_loader, _ = mnist(batch_size = batch_size, size = img_size[2])\n",
    "\n",
    "np_img = NeuralProcess2D(img_size, r_dim, z_dim, h_dim).to(device)\n",
    "\n",
    "optimizer = torch.optim.Adam(np_img.parameters(), lr = lr)\n",
    "\n",
    "np_trainer = NeuralProcessTrainer(device = device, neural_process = np_img, \n",
    "                                  optimizer = optimizer, num_context_range = num_context_range, \n",
    "                                  num_extra_target_range = num_extra_target_range, print_freq = 100)"
   ]
  },
  {
   "cell_type": "code",
   "execution_count": 48,
   "metadata": {},
   "outputs": [
    {
     "name": "stdout",
     "output_type": "stream",
     "text": [
      "Epoch 1\n",
      "iteration 7800, loss -110.289\n",
      "iteration 7900, loss -78.523\n",
      "iteration 8000, loss -101.102\n",
      "iteration 8100, loss -87.691\n",
      "iteration 8200, loss -62.283\n",
      "iteration 8300, loss -60.005\n",
      "iteration 8400, loss -113.319\n",
      "iteration 8500, loss -50.010\n",
      "iteration 8600, loss -129.047\n",
      "iteration 8700, loss -47.658\n",
      "iteration 8800, loss -193.765\n",
      "iteration 8900, loss -59.608\n",
      "iteration 9000, loss -63.506\n",
      "iteration 9100, loss -85.724\n",
      "iteration 9200, loss -129.824\n",
      "iteration 9300, loss -65.256\n",
      "iteration 9400, loss -35.716\n",
      "iteration 9500, loss -36.502\n",
      "iteration 9600, loss -43.474\n",
      "iteration 9700, loss -29.252\n",
      "iteration 9800, loss -84.579\n",
      "iteration 9900, loss -76.077\n",
      "iteration 10000, loss -99.571\n",
      "iteration 10100, loss -139.386\n",
      "iteration 10200, loss -168.492\n",
      "iteration 10300, loss -77.258\n",
      "iteration 10400, loss -95.784\n",
      "iteration 10500, loss -128.278\n",
      "iteration 10600, loss -14.655\n",
      "iteration 10700, loss -141.772\n",
      "iteration 10800, loss -135.730\n",
      "iteration 10900, loss -87.138\n",
      "iteration 11000, loss -34.838\n",
      "iteration 11100, loss -118.806\n",
      "iteration 11200, loss -78.854\n",
      "iteration 11300, loss -155.500\n",
      "iteration 11400, loss -27.611\n",
      "Epoch: 0, average loss: -93.163\n"
     ]
    }
   ],
   "source": [
    "for epoch in range(epochs):\n",
    "    print(\"Epoch {}\".format(epoch + 1))\n",
    "    np_trainer.train(mnist_data_loader, 1)\n",
    "    # Save losses at every epoch\n",
    "    with open(directory + '/losses.json', 'w') as f:\n",
    "        json.dump(np_trainer.epoch_loss_history, f)\n",
    "    # Save model at every epoch\n",
    "    torch.save(np_trainer.neural_process.state_dict(), directory + '/model.pt')"
   ]
  },
  {
   "cell_type": "markdown",
   "metadata": {},
   "source": [
    "## Load the trained model"
   ]
  },
  {
   "cell_type": "code",
   "execution_count": 38,
   "metadata": {},
   "outputs": [
    {
     "data": {
      "text/plain": [
       "NeuralProcess2D(\n",
       "  (neural_process): NeuralProcess(\n",
       "    (xy_to_r): rEncoder(\n",
       "      (input_to_hidden): Sequential(\n",
       "        (0): Linear(in_features=3, out_features=256, bias=True)\n",
       "        (1): ReLU(inplace=True)\n",
       "        (2): Linear(in_features=256, out_features=256, bias=True)\n",
       "        (3): ReLU(inplace=True)\n",
       "        (4): Linear(in_features=256, out_features=256, bias=True)\n",
       "      )\n",
       "    )\n",
       "    (r_to_mu_sigma): zEncoder(\n",
       "      (r_to_hidden): Linear(in_features=256, out_features=256, bias=True)\n",
       "      (hidden_to_mu): Linear(in_features=256, out_features=256, bias=True)\n",
       "      (hidden_to_sigma): Linear(in_features=256, out_features=256, bias=True)\n",
       "    )\n",
       "    (xz_to_y): Decoder(\n",
       "      (xz_to_hidden): Sequential(\n",
       "        (0): Linear(in_features=258, out_features=256, bias=True)\n",
       "        (1): ReLU(inplace=True)\n",
       "        (2): Linear(in_features=256, out_features=256, bias=True)\n",
       "        (3): ReLU(inplace=True)\n",
       "        (4): Linear(in_features=256, out_features=256, bias=True)\n",
       "        (5): ReLU(inplace=True)\n",
       "      )\n",
       "      (hidden_to_mu): Linear(in_features=256, out_features=1, bias=True)\n",
       "      (hidden_to_sigma): Linear(in_features=256, out_features=1, bias=True)\n",
       "    )\n",
       "  )\n",
       ")"
      ]
     },
     "execution_count": 38,
     "metadata": {},
     "output_type": "execute_result"
    }
   ],
   "source": [
    "# Replace with latest\n",
    "model_file = 'results_2023-07-27_14-35/model.pt'\n",
    "\n",
    "# Re-initialise new model\n",
    "trained_model = NeuralProcess2D(img_size, r_dim, z_dim, h_dim).to(device)\n",
    "\n",
    "# Load from file\n",
    "trained_model.load_state_dict(torch.load(model_file, map_location = lambda storage, loc: storage))\n",
    "\n",
    "trained_model\n",
    "# np_trainer.neural_process.state_dict()"
   ]
  },
  {
   "cell_type": "code",
   "execution_count": 47,
   "metadata": {},
   "outputs": [
    {
     "name": "stderr",
     "output_type": "stream",
     "text": [
      "Clipping input data to the valid range for imshow with RGB data ([0..1] for floats or [0..255] for integers).\n"
     ]
    },
    {
     "data": {
      "text/plain": [
       "<matplotlib.image.AxesImage at 0x7f994bf6b6a0>"
      ]
     },
     "execution_count": 47,
     "metadata": {},
     "output_type": "execute_result"
    },
    {
     "data": {
      "image/png": "[encoded data removed]",
      "text/plain": [
       "<Figure size 640x480 with 1 Axes>"
      ]
     },
     "metadata": {},
     "output_type": "display_data"
    }
   ],
   "source": [
    "from utils import inpaint\n",
    "\n",
    "# Number of inpaintings to sample from model\n",
    "num_inpaintings = 8 \n",
    "# Zero-filled frames\n",
    "all_inpaintings = torch.zeros(num_inpaintings, 1, 28, 28)\n",
    "\n",
    "# Sample several inpaintings\n",
    "for i in range(num_inpaintings):\n",
    "    # images is [8, 1, 28, 28] and mask tensor is also [8, 28, 28] (same mask across all channels)\n",
    "    # all_inpaintings[i] = inpaint(trained_model, images[1], mask_tensor[1], device)\n",
    "    all_inpaintings[i] = inpaint(trained_model, images[1], upperhalf_mask_tensor, device)\n",
    "\n",
    "# Visualize inpainting results on a grid\n",
    "inpainting_grid = make_grid(all_inpaintings, nrow = 4, pad_value = 1.)\n",
    "plt.imshow(inpainting_grid.permute(1, 2, 0).numpy())"
   ]
  }
 ],
 "metadata": {
  "kernelspec": {
   "display_name": "py3.9",
   "language": "python",
   "name": "python3"
  },
  "language_info": {
   "codemirror_mode": {
    "name": "ipython",
    "version": 3
   },
   "file_extension": ".py",
   "mimetype": "text/x-python",
   "name": "python",
   "nbconvert_exporter": "python",
   "pygments_lexer": "ipython3",
   "version": "3.9.16"
  },
  "orig_nbformat": 4
 },
 "nbformat": 4,
 "nbformat_minor": 2
}
